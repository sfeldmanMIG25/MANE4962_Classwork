{
  "nbformat": 4,
  "nbformat_minor": 0,
  "metadata": {
    "colab": {
      "provenance": [],
      "gpuType": "T4",
      "authorship_tag": "ABX9TyMPc6znIBvHqLJN3TEEuVny",
      "include_colab_link": true
    },
    "kernelspec": {
      "name": "python3",
      "display_name": "Python 3"
    },
    "language_info": {
      "name": "python"
    },
    "accelerator": "GPU"
  },
  "cells": [
    {
      "cell_type": "markdown",
      "metadata": {
        "id": "view-in-github",
        "colab_type": "text"
      },
      "source": [
        "<a href=\"https://colab.research.google.com/github/sfeldmanMIG25/MANE4962_Classwork/blob/main/Feldman_Stephen_ML_HW_5.ipynb\" target=\"_parent\"><img src=\"https://colab.research.google.com/assets/colab-badge.svg\" alt=\"Open In Colab\"/></a>"
      ]
    },
    {
      "cell_type": "markdown",
      "source": [
        "Stephen Feldman\n",
        "ML Homework 5\n",
        "\n",
        "RIN: 662047892"
      ],
      "metadata": {
        "id": "950_m9v88i6T"
      }
    },
    {
      "cell_type": "markdown",
      "source": [
        "Question 1: Construct a convolutional neural network model for classifying the CIFAR-10 dataset.\n",
        "Use the test set of the CIFAR-10 dataset as validation data for the model.\n",
        "\n",
        "(a) (64 pts.) Implement the convolutional neural network architecture given below.\n",
        "\n",
        "i. The first layer is a 2D convolutional layer with 64 filters, each of size (5, 5),\n",
        "and uses the ReLU activation function. The input shape of the layer should\n",
        "correspond to the dimensions of the input image.\n",
        "\n",
        "ii. The second layer is a max pooling layer of size (2, 2).\n",
        "\n",
        "iii. The third layer is another 2D convolutional layer with 32 filters, each of size\n",
        "(3, 3), and uses the ReLU activation function.\n",
        "\n",
        "iv. The fourth layer is another max pooling layer of size (2, 2).\n",
        "v. The fifth layer is another 2D convolutional layer with 32 filters, each of size (3,\n",
        "3), and uses the ReLU activation function.\n",
        "\n",
        "vi. The sixth layer is a flattened layer which converts the output of the previous\n",
        "layer into a one-dimensional vector.\n",
        "\n",
        "vii. The seventh layer is a dense layer with 64 neurons and uses the ReLU activation\n",
        "function.\n",
        "\n",
        "viii. The eighth and final layer produces estimated probabilities to classify the\n",
        "CIFAR-10 classes.\n",
        "\n",
        "(b) (6 pts.) Calculate and plot the training and validation accuracies of the network\n",
        "after 10 epochs with a batch size of 64."
      ],
      "metadata": {
        "id": "tp_SMiaP8nmx"
      }
    },
    {
      "cell_type": "code",
      "execution_count": 1,
      "metadata": {
        "id": "636hmb_I8ckR"
      },
      "outputs": [],
      "source": [
        "#Imports\n",
        "import tensorflow as tf\n",
        "from tensorflow import keras\n",
        "from tensorflow.keras import layers\n",
        "import matplotlib.pyplot as plt"
      ]
    },
    {
      "cell_type": "code",
      "source": [
        "# Define the CNN model architecture\n",
        "model = keras.Sequential([\n",
        "    layers.Conv2D(64, (5, 5), activation='relu', input_shape=(32, 32, 3)),\n",
        "    layers.MaxPooling2D((2, 2)),\n",
        "    layers.Conv2D(32, (3, 3), activation='relu'),\n",
        "    layers.MaxPooling2D((2, 2)),\n",
        "    layers.Conv2D(32, (3, 3), activation='relu'),\n",
        "    layers.Flatten(),\n",
        "    layers.Dense(64, activation='relu'),\n",
        "    layers.Dense(10, activation='softmax')  # 10 classes for CIFAR-10\n",
        "])"
      ],
      "metadata": {
        "colab": {
          "base_uri": "https://localhost:8080/"
        },
        "id": "9HhVYPY89JU7",
        "outputId": "ed50c622-1807-456a-98d1-4aad798bd8ca"
      },
      "execution_count": 2,
      "outputs": [
        {
          "output_type": "stream",
          "name": "stderr",
          "text": [
            "/usr/local/lib/python3.11/dist-packages/keras/src/layers/convolutional/base_conv.py:107: UserWarning: Do not pass an `input_shape`/`input_dim` argument to a layer. When using Sequential models, prefer using an `Input(shape)` object as the first layer in the model instead.\n",
            "  super().__init__(activity_regularizer=activity_regularizer, **kwargs)\n"
          ]
        }
      ]
    },
    {
      "cell_type": "code",
      "source": [
        "# Compile the model\n",
        "model.compile(optimizer='adam',\n",
        "              loss='sparse_categorical_crossentropy',\n",
        "              metrics=['accuracy'])"
      ],
      "metadata": {
        "id": "nOVplWPk9NZW"
      },
      "execution_count": 3,
      "outputs": []
    },
    {
      "cell_type": "code",
      "source": [
        "# Load and pre-process CIFAR-10 data\n",
        "(x_train, y_train), (x_test, y_test) = keras.datasets.cifar10.load_data()\n",
        "x_train, x_test = x_train / 255.0, x_test / 255.0  # Normalize pixel values"
      ],
      "metadata": {
        "colab": {
          "base_uri": "https://localhost:8080/"
        },
        "id": "7sOEWczx9PwR",
        "outputId": "8f1729a8-eae5-4f73-9ed3-263c609031e4"
      },
      "execution_count": 4,
      "outputs": [
        {
          "output_type": "stream",
          "name": "stdout",
          "text": [
            "Downloading data from https://www.cs.toronto.edu/~kriz/cifar-10-python.tar.gz\n",
            "\u001b[1m170498071/170498071\u001b[0m \u001b[32m━━━━━━━━━━━━━━━━━━━━\u001b[0m\u001b[37m\u001b[0m \u001b[1m2s\u001b[0m 0us/step\n"
          ]
        }
      ]
    },
    {
      "cell_type": "code",
      "source": [
        "# Train the model using the test set as validation data\n",
        "history = model.fit(x_train, y_train, epochs=10, batch_size=64,\n",
        "                    validation_data=(x_test, y_test))"
      ],
      "metadata": {
        "colab": {
          "base_uri": "https://localhost:8080/"
        },
        "id": "XNsCCT299XTI",
        "outputId": "7c18e1d9-2a55-494c-89b9-4a424995cf35"
      },
      "execution_count": 5,
      "outputs": [
        {
          "output_type": "stream",
          "name": "stdout",
          "text": [
            "Epoch 1/10\n",
            "\u001b[1m782/782\u001b[0m \u001b[32m━━━━━━━━━━━━━━━━━━━━\u001b[0m\u001b[37m\u001b[0m \u001b[1m81s\u001b[0m 101ms/step - accuracy: 0.2872 - loss: 1.9289 - val_accuracy: 0.4647 - val_loss: 1.4755\n",
            "Epoch 2/10\n",
            "\u001b[1m782/782\u001b[0m \u001b[32m━━━━━━━━━━━━━━━━━━━━\u001b[0m\u001b[37m\u001b[0m \u001b[1m79s\u001b[0m 98ms/step - accuracy: 0.4841 - loss: 1.4232 - val_accuracy: 0.5255 - val_loss: 1.3123\n",
            "Epoch 3/10\n",
            "\u001b[1m782/782\u001b[0m \u001b[32m━━━━━━━━━━━━━━━━━━━━\u001b[0m\u001b[37m\u001b[0m \u001b[1m81s\u001b[0m 97ms/step - accuracy: 0.5453 - loss: 1.2712 - val_accuracy: 0.5603 - val_loss: 1.2109\n",
            "Epoch 4/10\n",
            "\u001b[1m782/782\u001b[0m \u001b[32m━━━━━━━━━━━━━━━━━━━━\u001b[0m\u001b[37m\u001b[0m \u001b[1m87s\u001b[0m 103ms/step - accuracy: 0.5877 - loss: 1.1670 - val_accuracy: 0.5926 - val_loss: 1.1460\n",
            "Epoch 5/10\n",
            "\u001b[1m782/782\u001b[0m \u001b[32m━━━━━━━━━━━━━━━━━━━━\u001b[0m\u001b[37m\u001b[0m \u001b[1m77s\u001b[0m 96ms/step - accuracy: 0.6136 - loss: 1.0863 - val_accuracy: 0.6153 - val_loss: 1.0846\n",
            "Epoch 6/10\n",
            "\u001b[1m782/782\u001b[0m \u001b[32m━━━━━━━━━━━━━━━━━━━━\u001b[0m\u001b[37m\u001b[0m \u001b[1m78s\u001b[0m 99ms/step - accuracy: 0.6372 - loss: 1.0237 - val_accuracy: 0.6404 - val_loss: 1.0396\n",
            "Epoch 7/10\n",
            "\u001b[1m782/782\u001b[0m \u001b[32m━━━━━━━━━━━━━━━━━━━━\u001b[0m\u001b[37m\u001b[0m \u001b[1m79s\u001b[0m 96ms/step - accuracy: 0.6569 - loss: 0.9665 - val_accuracy: 0.6308 - val_loss: 1.0420\n",
            "Epoch 8/10\n",
            "\u001b[1m782/782\u001b[0m \u001b[32m━━━━━━━━━━━━━━━━━━━━\u001b[0m\u001b[37m\u001b[0m \u001b[1m82s\u001b[0m 96ms/step - accuracy: 0.6702 - loss: 0.9381 - val_accuracy: 0.6520 - val_loss: 1.0017\n",
            "Epoch 9/10\n",
            "\u001b[1m782/782\u001b[0m \u001b[32m━━━━━━━━━━━━━━━━━━━━\u001b[0m\u001b[37m\u001b[0m \u001b[1m81s\u001b[0m 96ms/step - accuracy: 0.6852 - loss: 0.8936 - val_accuracy: 0.6394 - val_loss: 1.0364\n",
            "Epoch 10/10\n",
            "\u001b[1m782/782\u001b[0m \u001b[32m━━━━━━━━━━━━━━━━━━━━\u001b[0m\u001b[37m\u001b[0m \u001b[1m73s\u001b[0m 94ms/step - accuracy: 0.6953 - loss: 0.8680 - val_accuracy: 0.6760 - val_loss: 0.9378\n"
          ]
        }
      ]
    },
    {
      "cell_type": "code",
      "source": [
        "# Plot training and validation accuracies\n",
        "plt.plot(history.history['accuracy'], label='Training Accuracy')\n",
        "plt.plot(history.history['val_accuracy'], label='Validation Accuracy')\n",
        "plt.xlabel('Epoch')\n",
        "plt.ylabel('Accuracy')\n",
        "plt.legend(loc='lower right')\n",
        "plt.title('Training and Validation Accuracies')\n",
        "plt.show()"
      ],
      "metadata": {
        "colab": {
          "base_uri": "https://localhost:8080/",
          "height": 472
        },
        "id": "jI0d-uzMAlss",
        "outputId": "e0d6a1f4-d68b-440a-cff9-a63c170c62ad"
      },
      "execution_count": 6,
      "outputs": [
        {
          "output_type": "display_data",
          "data": {
            "text/plain": [
              "<Figure size 640x480 with 1 Axes>"
            ],
            "image/png": "[encoded data removed]"
          },
          "metadata": {}
        }
      ]
    },
    {
      "cell_type": "markdown",
      "source": [
        "2. Use the Scikit-learn breast cancer Wisconsin dataset and support vector machine classi\u0002fiers to classify breast cancers. You must use worst compactness, worst concavity, and\n",
        "worst area features only to perform the classification.\n",
        "\n",
        "(a) (15 pts.) What is the accuracy of the classification model with a linear kernel?\n",
        "\n",
        "(b) (15 pts.) What is the accuracy of the classification model with a radial basis function\n",
        "kernel with regularization strength parameter, C=2?"
      ],
      "metadata": {
        "id": "ub32OVE2BG2X"
      }
    },
    {
      "cell_type": "code",
      "source": [
        "#imports\n",
        "from sklearn.datasets import load_breast_cancer\n",
        "from sklearn.model_selection import train_test_split\n",
        "from sklearn.svm import SVC\n",
        "from sklearn.metrics import accuracy_score"
      ],
      "metadata": {
        "id": "wywe9tnJBKuW"
      },
      "execution_count": 1,
      "outputs": []
    },
    {
      "cell_type": "code",
      "source": [
        "# Load the breast cancer dataset\n",
        "data = load_breast_cancer()\n",
        "X = data.data[:, [27, 28, 29]]  # Select worst compactness, concavity, and area features\n",
        "y = data.target"
      ],
      "metadata": {
        "id": "AH93NdQSBcPA"
      },
      "execution_count": 2,
      "outputs": []
    },
    {
      "cell_type": "code",
      "source": [
        "# Split data into training and testing sets\n",
        "X_train, X_test, y_train, y_test = train_test_split(X, y, test_size=0.2, random_state=42)\n"
      ],
      "metadata": {
        "id": "cQNL3LUPBeHK"
      },
      "execution_count": 3,
      "outputs": []
    },
    {
      "cell_type": "code",
      "source": [
        "# (a) Linear kernel\n",
        "linear_svm = SVC(kernel='linear')\n",
        "linear_svm.fit(X_train, y_train)\n",
        "linear_predictions = linear_svm.predict(X_test)\n",
        "linear_accuracy = accuracy_score(y_test, linear_predictions)\n",
        "print(\"Accuracy with linear kernel:\", linear_accuracy)\n"
      ],
      "metadata": {
        "colab": {
          "base_uri": "https://localhost:8080/"
        },
        "id": "fjmKETXnBhVf",
        "outputId": "09355205-08b5-450e-94d1-465caf91e5d2"
      },
      "execution_count": 4,
      "outputs": [
        {
          "output_type": "stream",
          "name": "stdout",
          "text": [
            "Accuracy with linear kernel: 0.8596491228070176\n"
          ]
        }
      ]
    },
    {
      "cell_type": "code",
      "source": [
        "# (b) Radial basis function (RBF) kernel with C=2\n",
        "rbf_svm = SVC(kernel='rbf', C=2)\n",
        "rbf_svm.fit(X_train, y_train)\n",
        "rbf_predictions = rbf_svm.predict(X_test)\n",
        "rbf_accuracy = accuracy_score(y_test, rbf_predictions)\n",
        "print(\"Accuracy with RBF kernel (C=2):\", rbf_accuracy)"
      ],
      "metadata": {
        "colab": {
          "base_uri": "https://localhost:8080/"
        },
        "id": "4ixuS84BBi1R",
        "outputId": "70df0e53-d2e4-4258-ecc8-42fe337f744e"
      },
      "execution_count": 5,
      "outputs": [
        {
          "output_type": "stream",
          "name": "stdout",
          "text": [
            "Accuracy with RBF kernel (C=2): 0.9210526315789473\n"
          ]
        }
      ]
    },
    {
      "cell_type": "markdown",
      "source": [
        "a. Accuracy with linear kernel: 0.8596491228070176\n",
        "\n",
        "b. Accuracy with RBF kernel (C=2): 0.9210526315789473"
      ],
      "metadata": {
        "id": "irYOQUkvCIha"
      }
    }
  ]
}